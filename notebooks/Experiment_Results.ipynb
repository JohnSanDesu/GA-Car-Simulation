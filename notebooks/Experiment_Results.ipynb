{
  "nbformat": 4,
  "nbformat_minor": 0,
  "metadata": {
    "colab": {
      "provenance": []
    },
    "kernelspec": {
      "name": "python3",
      "display_name": "Python 3"
    },
    "language_info": {
      "name": "python"
    }
  },
  "cells": [
    {
      "cell_type": "markdown",
      "source": [
        "# Experiment Results Analysis\n",
        "\n",
        "このノートブックでは、シミュレーション実験で得られた各種結果（軌跡、フィットネス、最適ゲノタイプ）をもとに、Spatial GA と Full Microbial GA の比較分析を行います。\n"
      ],
      "metadata": {
        "id": "JtJQg8S3IC5e"
      }
    },
    {
      "cell_type": "code",
      "execution_count": null,
      "metadata": {
        "id": "ui6WbE0MIAsN"
      },
      "outputs": [],
      "source": [
        "import numpy as np\n",
        "import matplotlib.pyplot as plt\n",
        "import pandas as pd\n",
        "import os\n",
        "\n",
        "# 例：保存されている結果ファイルの読み込み\n",
        "def load_result(filename):\n",
        "    with open(filename, 'r') as file:\n",
        "        content = file.read()\n",
        "    return content\n",
        "\n",
        "# 保存ファイルの例（ファイル名の命名規則に合わせて読み込み）\n",
        "result_spatial_50 = load_result('results_spatial_ga_50_noise_0.05.txt')\n",
        "result_full_microbial_50 = load_result('results_full_microbial_ga_50_noise_0.05.txt')\n",
        "\n",
        "print(\"Spatial GA (50 generations):\")\n",
        "print(result_spatial_50)\n",
        "print(\"Full Microbial GA (50 generations):\")\n",
        "print(result_full_microbial_50)\n"
      ]
    },
    {
      "cell_type": "markdown",
      "source": [
        "## データ概要と解析方法\n",
        "\n",
        "ここでは、各実験設定ごとのフィットネスの推移、最適ゲノタイプ、そしてエージェントの軌跡データについて、統計的および視覚的に比較します。  \n",
        "具体的には：\n",
        "- 各世代の最適フィットネスの平均・標準偏差の算出\n",
        "- 軌跡データのオーバーレイプロットによる定性的評価\n",
        "- テーブル形式での結果比較\n"
      ],
      "metadata": {
        "id": "jI-zepQLIGhW"
      }
    },
    {
      "cell_type": "code",
      "source": [
        "# 例：各世代条件下のフィットネス推移データ（シミュレーション実験時に保存したデータがあればそれを読み込む）\n",
        "# ここではダミーデータを用いた例です\n",
        "fitness_data = {\n",
        "    'Generations': [50, 150, 300],\n",
        "    'Spatial GA': [0.403, 0.897, 0.7614],\n",
        "    'Full Microbial GA': [0.837, 0.8715, 0.902]\n",
        "}\n",
        "\n",
        "df_fitness = pd.DataFrame(fitness_data)\n",
        "print(df_fitness)\n",
        "\n",
        "# プロット例\n",
        "plt.figure(figsize=(8, 5))\n",
        "plt.plot(df_fitness['Generations'], df_fitness['Spatial GA'], marker='o', label='Spatial GA')\n",
        "plt.plot(df_fitness['Generations'], df_fitness['Full Microbial GA'], marker='o', label='Full Microbial GA')\n",
        "plt.title('Comparison of Best Fitness by Generation')\n",
        "plt.xlabel('Number of Generations')\n",
        "plt.ylabel('Best Fitness Score')\n",
        "plt.legend()\n",
        "plt.grid(True)\n",
        "plt.show()\n"
      ],
      "metadata": {
        "id": "dXJLuMRbIHjj"
      },
      "execution_count": null,
      "outputs": []
    },
    {
      "cell_type": "markdown",
      "source": [
        "## 考察とまとめ\n",
        "\n",
        "- **定量的比較:** 各GAの収束速度、フィットネスの最終値、および安定性の違いが確認できました。特に、Full Microbial GA は初期の段階で高いフィットネスを示し、Spatial GA はより長期間の改善が見込める傾向にあります。\n",
        "- **軌跡の比較:** 軌跡プロットから、エージェントの動作パターンにおけるアルゴリズムごとの差異が視覚的に確認できます。\n",
        "- **今後の課題:** シミュレーション結果をより定量的に評価するために、さらなる統計解析や、実世界実験データとの相関解析が有用です。\n",
        "\n",
        "これらの分析結果を基に、最適化手法の改良や新たなGA戦略の検討を進める予定です。\n"
      ],
      "metadata": {
        "id": "jIAfcDgmIKSs"
      }
    }
  ]
}