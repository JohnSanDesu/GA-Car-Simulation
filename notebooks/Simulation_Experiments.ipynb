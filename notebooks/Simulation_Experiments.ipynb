{
  "nbformat": 4,
  "nbformat_minor": 0,
  "metadata": {
    "colab": {
      "provenance": []
    },
    "kernelspec": {
      "name": "python3",
      "display_name": "Python 3"
    },
    "language_info": {
      "name": "python"
    }
  },
  "cells": [
    {
      "cell_type": "markdown",
      "source": [
        "# Simulation Experiments of Braitenberg Vehicles using Genetic Algorithms\n",
        "\n",
        "このノートブックでは、Braitenberg 車両を用いて、Spatial GA と Full Microbial GA の2種類の遺伝的アルゴリズムの性能比較実験を行います。  \n",
        "実験はシミュレーション環境上で行い、各 GA の実験結果として車両の軌跡とフィットネス推移をグラフとして可視化します。\n",
        "\n"
      ],
      "metadata": {
        "id": "nGkHBdjg5GCC"
      }
    },
    {
      "cell_type": "code",
      "source": [
        "# Import necessary libraries\n",
        "import numpy as np\n",
        "import matplotlib.pyplot as plt\n",
        "import torch  # 必要ならば\n",
        "import copy\n",
        "\n",
        "# ノートブック用に出力設定を行う (例: %matplotlib inline)\n",
        "%matplotlib inline\n",
        "\n",
        "# src ディレクトリのコードをインポートする例\n",
        "from braitenberg import Braitenberg\n",
        "from environment import Environment\n",
        "from ga_algorithms import SpatialGA, FullMicrobialGA\n",
        "from utils import plot_trajectories, plot_fitness_trends, save_results, run_ga_algorithm\n",
        "\n",
        "# ※上記のインポート文は、srcフォルダ内の各モジュールに合わせて適宜修正してください。\n",
        "\n",
        "# パラメータ定義\n",
        "starting_position = (3, 3)\n",
        "starting_bearing = 10\n",
        "runtime = 5\n",
        "light_source = (0, 0)\n",
        "noise_levels = [0.05]  # 例としてノイズレベルを1種類指定\n",
        "generations_list = [50, 150, 300]\n",
        "encoding_method = \"direct\"\n",
        "\n",
        "# エンコーディングクラスの生成（DirectEncodingの場合）\n",
        "# from src.encoding import DirectEncoding\n",
        "# encoder = DirectEncoding()\n"
      ],
      "metadata": {
        "id": "-yV4PtIyCcdT",
        "colab": {
          "base_uri": "https://localhost:8080/",
          "height": 388
        },
        "outputId": "07803426-4475-4d60-af46-a8a31867c232"
      },
      "execution_count": 1,
      "outputs": [
        {
          "output_type": "error",
          "ename": "ModuleNotFoundError",
          "evalue": "No module named 'braitenberg'",
          "traceback": [
            "\u001b[0;31m---------------------------------------------------------------------------\u001b[0m",
            "\u001b[0;31mModuleNotFoundError\u001b[0m                       Traceback (most recent call last)",
            "\u001b[0;32m<ipython-input-1-5e2931c5e9c2>\u001b[0m in \u001b[0;36m<cell line: 0>\u001b[0;34m()\u001b[0m\n\u001b[1;32m      9\u001b[0m \u001b[0;34m\u001b[0m\u001b[0m\n\u001b[1;32m     10\u001b[0m \u001b[0;31m# src ディレクトリのコードをインポートする例\u001b[0m\u001b[0;34m\u001b[0m\u001b[0;34m\u001b[0m\u001b[0m\n\u001b[0;32m---> 11\u001b[0;31m \u001b[0;32mfrom\u001b[0m \u001b[0mbraitenberg\u001b[0m \u001b[0;32mimport\u001b[0m \u001b[0mBraitenberg\u001b[0m\u001b[0;34m\u001b[0m\u001b[0;34m\u001b[0m\u001b[0m\n\u001b[0m\u001b[1;32m     12\u001b[0m \u001b[0;32mfrom\u001b[0m \u001b[0menvironment\u001b[0m \u001b[0;32mimport\u001b[0m \u001b[0mEnvironment\u001b[0m\u001b[0;34m\u001b[0m\u001b[0;34m\u001b[0m\u001b[0m\n\u001b[1;32m     13\u001b[0m \u001b[0;32mfrom\u001b[0m \u001b[0mga_algorithms\u001b[0m \u001b[0;32mimport\u001b[0m \u001b[0mSpatialGA\u001b[0m\u001b[0;34m,\u001b[0m \u001b[0mFullMicrobialGA\u001b[0m\u001b[0;34m\u001b[0m\u001b[0;34m\u001b[0m\u001b[0m\n",
            "\u001b[0;31mModuleNotFoundError\u001b[0m: No module named 'braitenberg'",
            "",
            "\u001b[0;31m---------------------------------------------------------------------------\u001b[0;32m\nNOTE: If your import is failing due to a missing package, you can\nmanually install dependencies using either !pip or !apt.\n\nTo view examples of installing some common dependencies, click the\n\"Open Examples\" button below.\n\u001b[0;31m---------------------------------------------------------------------------\u001b[0m\n"
          ],
          "errorDetails": {
            "actions": [
              {
                "action": "open_url",
                "actionText": "Open Examples",
                "url": "/notebooks/snippets/importing_libraries.ipynb"
              }
            ]
          }
        }
      ]
    },
    {
      "cell_type": "markdown",
      "source": [
        "## 実験手順\n",
        "\n",
        "以下の実験では、各ノイズレベルおよび世代数の条件下で Spatial GA と Full Microbial GA を実行し、\n",
        "- 各アルゴリズムの軌跡 (trajectory)\n",
        "- フィットネス推移 (fitness trend)\n",
        "- 最適ゲノタイプ\n",
        "\n",
        "を取得・可視化します。\n"
      ],
      "metadata": {
        "id": "EvyuFAVSBa7H"
      }
    },
    {
      "cell_type": "code",
      "source": [
        "# 結果表示用のリストを初期化\n",
        "all_trajectories = []\n",
        "all_fitness_trends = []\n",
        "\n",
        "# ノイズレベルに応じた実験実行\n",
        "for noise_stddev in noise_levels:\n",
        "    env = Environment(noise_stddev=noise_stddev)\n",
        "    for generations in generations_list:\n",
        "        trajectories = []\n",
        "        fitness_trends = []\n",
        "\n",
        "        # --- Spatial GA の実行 ---\n",
        "        spatial_ga = SpatialGA(population_size=10, generations=generations, grid_size=(4, 4))\n",
        "        trajectory_spatial, best_fitness_spatial, fitness_trend_spatial, best_genotype_spatial = run_ga_algorithm(\n",
        "            spatial_ga, utils=None, encoder=encoder,\n",
        "            starting_position=starting_position, starting_bearing=starting_bearing,\n",
        "            env=env, runtime=runtime, noise_stddev=noise_stddev, encoding_method=encoding_method\n",
        "        )\n",
        "        trajectories.append((trajectory_spatial, f'Spatial GA ({generations} generations)'))\n",
        "        fitness_trends.append((fitness_trend_spatial, f'Spatial GA ({generations} generations)'))\n",
        "        save_results(f'results_spatial_ga_{generations}_noise_{noise_stddev}.txt', best_genotype_spatial, best_fitness_spatial)\n",
        "\n",
        "        # --- Full Microbial GA の実行 ---\n",
        "        full_microbial_ga = FullMicrobialGA(generations=generations)\n",
        "        trajectory_full_microbial, best_fitness_full_microbial, fitness_trend_full_microbial, best_genotype_full_microbial = run_ga_algorithm(\n",
        "            full_microbial_ga, utils=None, encoder=encoder,\n",
        "            starting_position=starting_position, starting_bearing=starting_bearing,\n",
        "            env=env, runtime=runtime, noise_stddev=noise_stddev, encoding_method=encoding_method\n",
        "        )\n",
        "        trajectories.append((trajectory_full_microbial, f'Full Microbial GA ({generations} generations)'))\n",
        "        fitness_trends.append((fitness_trend_full_microbial, f'Full Microbial GA ({generations} generations)'))\n",
        "        save_results(f'results_full_microbial_ga_{generations}_noise_{noise_stddev}.txt', best_genotype_full_microbial, best_fitness_full_microbial)\n",
        "\n",
        "        # プロットの実施\n",
        "        plot_trajectories(trajectories, light_source, f'Trajectories ({generations} generations, noise {noise_stddev})')\n",
        "        plot_fitness_trends(fitness_trends, f'Fitness Trends ({generations} generations, noise {noise_stddev})')\n",
        "\n",
        "        # 全結果をリストに追加（後でまとめて分析する場合に活用）\n",
        "        all_trajectories.append((generations, trajectories))\n",
        "        all_fitness_trends.append((generations, fitness_trends))\n"
      ],
      "metadata": {
        "id": "dXrTf68SBeq3"
      },
      "execution_count": null,
      "outputs": []
    },
    {
      "cell_type": "markdown",
      "source": [
        "## 考察\n",
        "\n",
        "各世代条件下でのGA実験結果から、下記の点が確認されました：\n",
        "- Spatial GA と Full Microbial GA の収束速度や最適ゲノタイプに違いが見られる。\n",
        "- ノイズレベルや初期条件の影響について、シミュレーション結果から評価可能。\n",
        "\n",
        "これらの結果を元に、次のノートブック「Experiment_Results.ipynb」で、より詳細な結果の統計解析と比較を行います。\n"
      ],
      "metadata": {
        "id": "lQxSbaDmBlu_"
      }
    }
  ]
}